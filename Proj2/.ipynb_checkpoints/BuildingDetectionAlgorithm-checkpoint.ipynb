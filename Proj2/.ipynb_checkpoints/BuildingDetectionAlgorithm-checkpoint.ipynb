{
 "cells": [
  {
   "cell_type": "markdown",
   "metadata": {},
   "source": [
    "# Problem Definition and Detection algorithm\n",
    "\n",
    "## Problem definition\n",
    "1. difference between panchromatic and multi-spectral\n",
    "2. Data Characteristics\n",
    "a. Spatial resolution\n",
    "b. Centre and Width of Spatial Channels\n",
    "x. Size, shape, color\n",
    "\n",
    "\n",
    "\n",
    "## Design\n",
    "\n",
    "1. Chosen image and area of interest\n",
    "2. Image Enhancement (Math Morpology)\n",
    "3. Detect image: Edge detection or classification\n",
    "4. Count number of tents\n",
    "\n"
   ]
  },
  {
   "cell_type": "code",
   "execution_count": null,
   "metadata": {},
   "outputs": [],
   "source": []
  },
  {
   "cell_type": "code",
   "execution_count": null,
   "metadata": {},
   "outputs": [],
   "source": [
    "\"\"\"\"\"\"\"\"\n",
    "ENGO659: Digital Imaging and Applications\n",
    "Project 2: Counting Tents in a Refugee Camp.\n",
    "\n",
    "Written by: Veronica Obodozie\n",
    "Date: 17-Feb-2025\n",
    "\"\"\"\"\"\"\"\""
   ]
  }
 ],
 "metadata": {
  "kernelspec": {
   "display_name": "Python 3",
   "language": "python",
   "name": "python3"
  },
  "language_info": {
   "codemirror_mode": {
    "name": "ipython",
    "version": 3
   },
   "file_extension": ".py",
   "mimetype": "text/x-python",
   "name": "python",
   "nbconvert_exporter": "python",
   "pygments_lexer": "ipython3",
   "version": "3.8.5"
  }
 },
 "nbformat": 4,
 "nbformat_minor": 4
}
